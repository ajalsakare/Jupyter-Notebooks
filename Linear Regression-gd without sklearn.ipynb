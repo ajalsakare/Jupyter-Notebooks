{
 "cells": [
  {
   "cell_type": "code",
   "execution_count": 22,
   "id": "91b907be",
   "metadata": {},
   "outputs": [],
   "source": [
    "import pandas as pd\n",
    "import numpy as np\n",
    "import matplotlib.pyplot as plt"
   ]
  },
  {
   "cell_type": "markdown",
   "id": "b5b19df7",
   "metadata": {},
   "source": [
    "### Generating random Linear Dataset of 100 records."
   ]
  },
  {
   "cell_type": "code",
   "execution_count": 23,
   "id": "7fb7d153",
   "metadata": {},
   "outputs": [
    {
     "name": "stdout",
     "output_type": "stream",
     "text": [
      "(100, 1) (100, 1)\n"
     ]
    }
   ],
   "source": [
    "X = np.random.rand(100, 1)\n",
    "\n",
    "y = 2 + 3*X + np.random.rand(X.shape[0], X.shape[1])\n",
    "\n",
    "print(X.shape, y.shape)"
   ]
  },
  {
   "cell_type": "markdown",
   "id": "734af55a",
   "metadata": {},
   "source": [
    "Let's see the first few elements of the data."
   ]
  },
  {
   "cell_type": "code",
   "execution_count": 24,
   "id": "4f92289f",
   "metadata": {},
   "outputs": [
    {
     "name": "stdout",
     "output_type": "stream",
     "text": [
      "[[0.90998893]\n",
      " [0.80132562]\n",
      " [0.81005968]\n",
      " [0.47686008]\n",
      " [0.10470256]]\n"
     ]
    }
   ],
   "source": [
    "print(X[:5])"
   ]
  },
  {
   "cell_type": "code",
   "execution_count": 25,
   "id": "86323b9c",
   "metadata": {},
   "outputs": [
    {
     "name": "stdout",
     "output_type": "stream",
     "text": [
      "[[5.67094944]\n",
      " [5.02180186]\n",
      " [4.93100887]\n",
      " [4.28472329]\n",
      " [2.44561105]]\n"
     ]
    }
   ],
   "source": [
    "print(y[:5])"
   ]
  },
  {
   "cell_type": "markdown",
   "id": "11e1185c",
   "metadata": {},
   "source": [
    "#### The function `train_test_split()` will split the data between training and testing data."
   ]
  },
  {
   "cell_type": "code",
   "execution_count": 26,
   "id": "1f35a7cd",
   "metadata": {},
   "outputs": [],
   "source": [
    "def train_test_split(X, y, ratio=0.2):\n",
    "    \"\"\"Arguments: Dataset, true labels and splitting ratio\n",
    "        \n",
    "       returns: Dataset and labels splitted into training and testing part in a tuple\n",
    "               ((X_train, X_test, y_train, y_test))\n",
    "    \"\"\"\n",
    "    \n",
    "    assert len(X) == len(y), 'Length of dataset and labels should be same.'\n",
    "    assert ratio < 1, 'ratio should be less than 1.'\n",
    "    \n",
    "    percent = 100 - (ratio * 100)\n",
    "    percent_num = int((percent/100) * len(X))\n",
    "    \n",
    "    X_train = X[:percent_num, :]\n",
    "    X_test = X[percent_num:, :]\n",
    "    y_train = y[:percent_num]\n",
    "    y_test = y[percent_num:]\n",
    "    \n",
    "    return (X_train, X_test, y_train, y_test)"
   ]
  },
  {
   "cell_type": "markdown",
   "id": "18c12b83",
   "metadata": {},
   "source": [
    "### The below class `LinearRegression` can be used to train and predict a linear model."
   ]
  },
  {
   "cell_type": "code",
   "execution_count": 27,
   "id": "538ab98c",
   "metadata": {},
   "outputs": [],
   "source": [
    "class LinearRegression():\n",
    "    \n",
    "    def __init__(self):\n",
    "        self.costs = []\n",
    "        self.coefficient = 0.0\n",
    "        self.intercept = 0.0\n",
    "        self.result = 0.0\n",
    "        self.weight_grad = 0.0\n",
    "        \n",
    "    def predict(self, X):\n",
    "        \"\"\"Arguments: X_train, weight, bias\n",
    "        \n",
    "           returns: predicted values\"\"\"\n",
    "\n",
    "        pred = np.dot(X, self.coefficient.T) + self.intercept\n",
    "        return pred\n",
    "    \n",
    "    def mean_squared_error(self, pred, labels):\n",
    "        \"\"\" Arguments: predicted_values, true_labels\n",
    "        \n",
    "            returns: cost(error)\"\"\"\n",
    "    \n",
    "        assert len(pred) == len(labels), 'Length of labels and predictions should be same.'\n",
    "\n",
    "        # cost = 1/m * sum(labels - pred)**2\n",
    "\n",
    "        cost = np.sum((labels-pred)**2)\n",
    "        cost = cost/(2 * len(pred))\n",
    "\n",
    "        return cost\n",
    "    \n",
    "    def gradients(self, X, y, weight, bias):\n",
    "        \"\"\" Arguments: X_train, y_train, weight, bias\n",
    "            \n",
    "            returns: bias_gradient, weight_gradient\"\"\"\n",
    "\n",
    "        p = self.predict(X)\n",
    "        for i in range(self.weight_grad.shape[1]):\n",
    "            self.weight_grad[:,i] = (-1 * np.dot(X[:,i].T, y - p))/len(y)\n",
    "            \n",
    "        bias_grad = (-1 * np.sum(y - p))/len(y)\n",
    "\n",
    "        return (bias_grad, self.weight_grad)\n",
    "    \n",
    "    def fit(self, X, y, iterations, weight_init='zero', learning_rate=0.1, print_cost=True):\n",
    "        \"\"\" Arguments: X_train, \n",
    "                       y_train, \n",
    "                       iterations, \n",
    "                       weight => by default 0.0,\n",
    "                       bias => by default 0.0,\n",
    "                       learning_rate => by default 0.1,\n",
    "                       print_cost => by default True\n",
    "        \n",
    "            returns: learned_bias, learned_weight\"\"\"\n",
    "        \n",
    "        if weight_init == 'zero':\n",
    "            self.coefficient = np.zeros((1, X.shape[1]))\n",
    "        elif weight_init == 'random':\n",
    "            self.intercept = np.random.rand(1)\n",
    "            self.coefficient = np.random.rand(1, X.shape[1])\n",
    "        else:\n",
    "            print('Invalid parameter')\n",
    "            \n",
    "        self.weight_grad = np.zeros(self.coefficient.shape)\n",
    "            \n",
    "        for i in range(1, iterations+1):\n",
    "    \n",
    "            # predicting values\n",
    "            prediction = self.predict(X)\n",
    "\n",
    "            #calculating cost\n",
    "            cost = self.mean_squared_error(prediction, y)\n",
    "\n",
    "            if i % 10 == 0:\n",
    "                self.costs.append(cost)\n",
    "                if print_cost:\n",
    "                    print(f'Cost after {i}th iteration - {cost}')\n",
    "\n",
    "            # calculating gradients\n",
    "            bias_grad, self.weight_grad = self.gradients(X, y, self.coefficient, self.intercept)\n",
    "\n",
    "            # updating weights\n",
    "            self.coefficient = self.coefficient - learning_rate * self.weight_grad\n",
    "            self.intercept = self.intercept - learning_rate * bias_grad\n",
    "            \n",
    "        return (self.intercept, self.coefficient)\n",
    "    \n",
    "    def score(self, labels, pred):\n",
    "        \"\"\" Arguments: labels => True labels\n",
    "                       pred => predicted values\n",
    "            returns: score calculated based on passed arguments.\"\"\"\n",
    "        \n",
    "        num = np.sum((labels - pred)**2)\n",
    "        den = np.sum((labels - np.mean(labels))**2)\n",
    "        \n",
    "        self.res = 1 - (num/den)\n",
    "        return self.res"
   ]
  },
  {
   "cell_type": "markdown",
   "id": "a4bd9424",
   "metadata": {},
   "source": [
    "#### Let's split the data between train and test."
   ]
  },
  {
   "cell_type": "code",
   "execution_count": 28,
   "id": "c58a3d30",
   "metadata": {},
   "outputs": [
    {
     "name": "stdout",
     "output_type": "stream",
     "text": [
      "(80, 1) (20, 1) (80, 1) (20, 1)\n"
     ]
    }
   ],
   "source": [
    "X_train, X_test, y_train, y_test = train_test_split(X, y)\n",
    "print(X_train.shape, X_test.shape, y_train.shape, y_test.shape)"
   ]
  },
  {
   "cell_type": "markdown",
   "id": "507f0e70",
   "metadata": {},
   "source": [
    "### Visualizing the regression line with parameters initialized as zero before training a model."
   ]
  },
  {
   "cell_type": "code",
   "execution_count": 29,
   "id": "8aceabb8",
   "metadata": {},
   "outputs": [],
   "source": [
    "y_pred = 0 + X_train*0"
   ]
  },
  {
   "cell_type": "code",
   "execution_count": 30,
   "id": "2f5f8401",
   "metadata": {},
   "outputs": [
    {
     "data": {
      "image/png": "[encoded data removed]",
      "text/plain": [
       "<Figure size 720x576 with 1 Axes>"
      ]
     },
     "metadata": {
      "needs_background": "light"
     },
     "output_type": "display_data"
    }
   ],
   "source": [
    "plt.figure(figsize=(10, 8))\n",
    "plt.scatter(X_train, y_train, color='orange', label='Data points')\n",
    "plt.plot(X_train, y_pred, color='blue', label='Regression line')\n",
    "plt.xlabel('X', size=15)\n",
    "plt.ylabel('Y', size=15)\n",
    "plt.legend()\n",
    "plt.show()"
   ]
  },
  {
   "cell_type": "markdown",
   "id": "f92b3acb",
   "metadata": {},
   "source": [
    "### Visualizing the regression line with parameters initialized randomly before training a model."
   ]
  },
  {
   "cell_type": "code",
   "execution_count": 31,
   "id": "4a4c4eea",
   "metadata": {},
   "outputs": [],
   "source": [
    "y_pred = np.random.rand(1) + np.random.rand(1) * X_train"
   ]
  },
  {
   "cell_type": "code",
   "execution_count": 32,
   "id": "cfc3dd5b",
   "metadata": {},
   "outputs": [
    {
     "data": {
      "image/png": "[encoded data removed]",
      "text/plain": [
       "<Figure size 720x576 with 1 Axes>"
      ]
     },
     "metadata": {
      "needs_background": "light"
     },
     "output_type": "display_data"
    }
   ],
   "source": [
    "plt.figure(figsize=(10, 8))\n",
    "plt.scatter(X_train, y_train, color='orange', label='Data points')\n",
    "plt.plot(X_train, y_pred, color='blue', label='Regression line')\n",
    "plt.xlabel('X', size=15)\n",
    "plt.ylabel('Y', size=15)\n",
    "plt.legend()\n",
    "plt.show()"
   ]
  },
  {
   "cell_type": "markdown",
   "id": "2d2fe140",
   "metadata": {},
   "source": [
    "### Now let's train the model."
   ]
  },
  {
   "cell_type": "code",
   "execution_count": 33,
   "id": "8f39de17",
   "metadata": {},
   "outputs": [
    {
     "name": "stdout",
     "output_type": "stream",
     "text": [
      "Cost after 10th iteration - 0.7663267525422276\n",
      "Cost after 20th iteration - 0.12143723099943522\n",
      "Cost after 30th iteration - 0.07880593227873148\n",
      "Cost after 40th iteration - 0.07196755460192306\n",
      "Cost after 50th iteration - 0.06774188000878478\n",
      "Cost after 60th iteration - 0.06412719311710165\n",
      "Cost after 70th iteration - 0.060951602790013396\n",
      "Cost after 80th iteration - 0.058156744494004396\n",
      "Cost after 90th iteration - 0.05569667673419167\n",
      "Cost after 100th iteration - 0.053531278413632345\n",
      "Cost after 110th iteration - 0.05162525271923033\n",
      "Cost after 120th iteration - 0.049947531793484656\n",
      "Cost after 130th iteration - 0.04847076916667492\n",
      "Cost after 140th iteration - 0.0471708939473743\n",
      "Cost after 150th iteration - 0.04602671846846249\n",
      "Cost after 160th iteration - 0.04501959293279121\n",
      "Cost after 170th iteration - 0.04413310142576651\n",
      "Cost after 180th iteration - 0.04335279433971577\n",
      "Cost after 190th iteration - 0.042665952848606005\n",
      "Cost after 200th iteration - 0.04206138159410483\n"
     ]
    }
   ],
   "source": [
    "lin_reg = LinearRegression()\n",
    "learned_bias, learned_weight = lin_reg.fit(X_train, y_train, 200, weight_init='zero')"
   ]
  },
  {
   "cell_type": "markdown",
   "id": "0ec36b5e",
   "metadata": {},
   "source": [
    "#### Try changing the `weight_init` parameter to 'random' in `train()` method, it converges to minimum more quickly as compared to when weights initialized to zero."
   ]
  },
  {
   "cell_type": "code",
   "execution_count": 34,
   "id": "d52faa0e",
   "metadata": {},
   "outputs": [
    {
     "name": "stdout",
     "output_type": "stream",
     "text": [
      "Intercept: 2.646708457125878,\n",
      "Coefficient: 2.668271359109591\n"
     ]
    }
   ],
   "source": [
    "print(f'Intercept: {lin_reg.intercept},\\nCoefficient: {np.squeeze(lin_reg.coefficient)}')"
   ]
  },
  {
   "cell_type": "markdown",
   "id": "f402ef62",
   "metadata": {},
   "source": [
    "### Predicting y with learned parameters."
   ]
  },
  {
   "cell_type": "code",
   "execution_count": 35,
   "id": "c182e3fe",
   "metadata": {},
   "outputs": [],
   "source": [
    "y_pred = learned_bias + learned_weight * X_train"
   ]
  },
  {
   "cell_type": "markdown",
   "id": "adcffa37",
   "metadata": {},
   "source": [
    "### Visualizing the regression line with learned parameters after training a model."
   ]
  },
  {
   "cell_type": "code",
   "execution_count": 36,
   "id": "91dfde60",
   "metadata": {},
   "outputs": [
    {
     "data": {
      "image/png": "[encoded data removed]",
      "text/plain": [
       "<Figure size 720x576 with 1 Axes>"
      ]
     },
     "metadata": {
      "needs_background": "light"
     },
     "output_type": "display_data"
    }
   ],
   "source": [
    "plt.figure(figsize=(10, 8))\n",
    "plt.scatter(X_train, y_train, color='orange', label='Data points')\n",
    "plt.plot(X_train, y_pred, color='blue', label='Regression line')\n",
    "plt.xlabel('X', size=15)\n",
    "plt.ylabel('Y', size=15)\n",
    "plt.legend()\n",
    "plt.show()"
   ]
  },
  {
   "cell_type": "markdown",
   "id": "1ee2f714",
   "metadata": {},
   "source": [
    "### Now we'll calculate R<sup>2</sup> score using `score()` which shows how well our model is performing.\n",
    "\n",
    "R<sup>2</sup> value ranges between 0 and 1. The higher the R<sup>2</sup> value the better the model."
   ]
  },
  {
   "cell_type": "code",
   "execution_count": 37,
   "id": "eec4bbe9",
   "metadata": {},
   "outputs": [
    {
     "data": {
      "text/plain": [
       "0.8984074959373981"
      ]
     },
     "execution_count": 37,
     "metadata": {},
     "output_type": "execute_result"
    }
   ],
   "source": [
    "lin_reg.score(y_train, y_pred)"
   ]
  },
  {
   "cell_type": "markdown",
   "id": "a17284a8",
   "metadata": {},
   "source": [
    "Here were are able to get a good score, because we've calculated on the trained data now let's check how it performs on test data(unseen while training)."
   ]
  },
  {
   "cell_type": "code",
   "execution_count": 38,
   "id": "ef2a3dd3",
   "metadata": {},
   "outputs": [
    {
     "data": {
      "text/plain": [
       "0.7874312674020844"
      ]
     },
     "execution_count": 38,
     "metadata": {},
     "output_type": "execute_result"
    }
   ],
   "source": [
    "y_test_pred = lin_reg.predict(X_test)\n",
    "lin_reg.score(y_test_pred, y_test)"
   ]
  },
  {
   "cell_type": "markdown",
   "id": "69d852b8",
   "metadata": {},
   "source": [
    "#### So it's performing quite well on the test data as well, one reason behind this is because we've generated a linear data. The performance will differ on real world datasets."
   ]
  },
  {
   "cell_type": "markdown",
   "id": "fced2c7e",
   "metadata": {},
   "source": [
    "### Visualizing Cost vs Iterations\n",
    "This shows how cost value decreases with the no. of iterations"
   ]
  },
  {
   "cell_type": "code",
   "execution_count": 39,
   "id": "4ed31250",
   "metadata": {},
   "outputs": [
    {
     "data": {
      "image/png": "[encoded data removed]",
      "text/plain": [
       "<Figure size 720x432 with 1 Axes>"
      ]
     },
     "metadata": {
      "needs_background": "light"
     },
     "output_type": "display_data"
    }
   ],
   "source": [
    "iterations = [i*10 for i in range(1, len(lin_reg.costs)+1)]\n",
    "plt.figure(figsize=(10, 6))\n",
    "plt.plot(iterations, lin_reg.costs, color='blue', label='Cost')\n",
    "plt.xlabel('No. of Iterations', fontsize=13)\n",
    "plt.ylabel('Cost', fontsize=13)\n",
    "plt.legend()\n",
    "plt.show()\n",
    "# iterations"
   ]
  },
  {
   "cell_type": "code",
   "execution_count": null,
   "id": "9f80cead",
   "metadata": {},
   "outputs": [],
   "source": []
  }
 ],
 "metadata": {
  "kernelspec": {
   "display_name": "Python 3 (ipykernel)",
   "language": "python",
   "name": "python3"
  },
  "language_info": {
   "codemirror_mode": {
    "name": "ipython",
    "version": 3
   },
   "file_extension": ".py",
   "mimetype": "text/x-python",
   "name": "python",
   "nbconvert_exporter": "python",
   "pygments_lexer": "ipython3",
   "version": "3.8.0"
  }
 },
 "nbformat": 4,
 "nbformat_minor": 5
}

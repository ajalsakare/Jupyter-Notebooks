{
 "cells": [
  {
   "cell_type": "code",
   "execution_count": 136,
   "id": "bad034af",
   "metadata": {},
   "outputs": [],
   "source": [
    "import pandas as pd\n",
    "import numpy as np\n",
    "import matplotlib.pyplot as plt"
   ]
  },
  {
   "cell_type": "markdown",
   "id": "10d9ea53",
   "metadata": {},
   "source": [
    "### Generating random linear dataset with 200 entries"
   ]
  },
  {
   "cell_type": "code",
   "execution_count": 14,
   "id": "4d1926d5",
   "metadata": {},
   "outputs": [
    {
     "name": "stdout",
     "output_type": "stream",
     "text": [
      "(200, 1) (200, 1)\n"
     ]
    }
   ],
   "source": [
    "X = np.random.rand(200, 1)\n",
    "\n",
    "y = 2.5 + 5*X + np.random.rand(200, 1)\n",
    "\n",
    "print(X.shape, y.shape)"
   ]
  },
  {
   "cell_type": "code",
   "execution_count": 15,
   "id": "d7060f16",
   "metadata": {},
   "outputs": [
    {
     "data": {
      "text/plain": [
       "array([[0.13684306],\n",
       "       [0.09951283],\n",
       "       [0.64313606],\n",
       "       [0.37636164],\n",
       "       [0.57326545],\n",
       "       [0.03156157],\n",
       "       [0.60199062],\n",
       "       [0.62763874],\n",
       "       [0.35007998],\n",
       "       [0.0144828 ]])"
      ]
     },
     "execution_count": 15,
     "metadata": {},
     "output_type": "execute_result"
    }
   ],
   "source": [
    "X[:10]"
   ]
  },
  {
   "cell_type": "code",
   "execution_count": 16,
   "id": "e69c20e3",
   "metadata": {},
   "outputs": [
    {
     "data": {
      "text/plain": [
       "array([[3.81608368],\n",
       "       [3.40323274],\n",
       "       [6.58371462],\n",
       "       [4.94054365],\n",
       "       [5.81476832],\n",
       "       [2.96298538],\n",
       "       [6.2065142 ],\n",
       "       [6.17849176],\n",
       "       [5.19430741],\n",
       "       [2.82985048]])"
      ]
     },
     "execution_count": 16,
     "metadata": {},
     "output_type": "execute_result"
    }
   ],
   "source": [
    "y[:10]"
   ]
  },
  {
   "cell_type": "markdown",
   "id": "0a70f7ac",
   "metadata": {},
   "source": [
    "### The below class `UniLinearRegression` can be used to train and predict a univariate linear model."
   ]
  },
  {
   "cell_type": "code",
   "execution_count": 117,
   "id": "b5b8bb43",
   "metadata": {},
   "outputs": [],
   "source": [
    "class UniLinearRegression():\n",
    "    \n",
    "    def __init__(self):\n",
    "        self.costs = []\n",
    "        \n",
    "    def predict(self, X, weight, bias):\n",
    "        \"\"\"Arguments: X_train, weight, bias\n",
    "        \n",
    "           returns: predicted values\"\"\"\n",
    "        \n",
    "        pred = X * weight + bias\n",
    "        return pred\n",
    "    \n",
    "    def mean_squared_error(self, pred, labels):\n",
    "        \"\"\" Arguments: predicted_values, true_labels\n",
    "        \n",
    "            returns: cost(error)\"\"\"\n",
    "    \n",
    "        assert len(pred) == len(labels), 'Length of labels and predictions should be same.'\n",
    "\n",
    "        # cost = 1/m * sum(labels - pred)**2\n",
    "\n",
    "        cost = np.sum((labels-pred)**2)\n",
    "        cost = cost/len(pred)\n",
    "\n",
    "        return cost\n",
    "    \n",
    "    def gradient_descent(self, X, y, weight, bias):\n",
    "        \"\"\" Arguments: X_train, y_train, weight, bias\n",
    "            \n",
    "            returns: bias_gradient, weight_gradient\"\"\"\n",
    "\n",
    "        weight_grad = (-2 * np.dot(X.T, y - (bias + weight*X)))/len(y)\n",
    "        bias_grad = (-2 * np.sum(y - (bias + weight*X)))/len(y)\n",
    "\n",
    "        return (bias_grad, weight_grad)\n",
    "    \n",
    "    def train(self, X, y, iterations, weight=0.0, bias=0.0, learning_rate=0.1, print_cost=True):\n",
    "        \"\"\" Arguments: X_train, \n",
    "                       y_train, \n",
    "                       iterations, \n",
    "                       weight => by default 0.0,\n",
    "                       bias => by default 0.0,\n",
    "                       learning_rate => by default 0.1,\n",
    "                       print_cost => by default True\n",
    "        \n",
    "            returns: learned_bias, learned_weight\"\"\"\n",
    "        for i in range(1, iterations+1):\n",
    "    \n",
    "            # predicting values\n",
    "            prediction = self.predict(X, weight, bias)\n",
    "\n",
    "            #calculating cost\n",
    "            cost = mean_squared_error(prediction, y)\n",
    "\n",
    "            if i % 10 == 0:\n",
    "                self.costs.append(cost)\n",
    "                if print_cost:\n",
    "                    print(f'Cost after {i}th iteration - {cost}')\n",
    "\n",
    "            # calculating gradients\n",
    "            bias_grad, weight_grad = gradient_descent(X, y, weight, bias)\n",
    "\n",
    "            # updating weights\n",
    "            weight = weight - learning_rate * weight_grad\n",
    "            bias = bias - learning_rate * bias_grad\n",
    "            \n",
    "        return (bias, weight)"
   ]
  },
  {
   "cell_type": "markdown",
   "id": "43359877",
   "metadata": {},
   "source": [
    "#### Trained a model by calling `train()` on UniLinearRegression object"
   ]
  },
  {
   "cell_type": "code",
   "execution_count": 130,
   "id": "5bd5685f",
   "metadata": {},
   "outputs": [
    {
     "name": "stdout",
     "output_type": "stream",
     "text": [
      "Cost after 10th iteration - 0.7098013169666941\n",
      "Cost after 20th iteration - 0.43189961995832815\n",
      "Cost after 30th iteration - 0.3466625235618865\n",
      "Cost after 40th iteration - 0.28228497646159095\n",
      "Cost after 50th iteration - 0.23338147034167492\n",
      "Cost after 60th iteration - 0.19623176695153163\n",
      "Cost after 70th iteration - 0.16801087457042022\n",
      "Cost after 80th iteration - 0.14657278235483895\n",
      "Cost after 90th iteration - 0.13028726623303155\n",
      "Cost after 100th iteration - 0.11791592121377242\n",
      "Cost after 110th iteration - 0.10851798893819631\n",
      "Cost after 120th iteration - 0.10137881927484761\n",
      "Cost after 130th iteration - 0.0959555259388723\n",
      "Cost after 140th iteration - 0.09183570360728802\n",
      "Cost after 150th iteration - 0.08870606724201315\n",
      "Cost after 160th iteration - 0.08632862885012887\n",
      "Cost after 170th iteration - 0.08452260008272316\n",
      "Cost after 180th iteration - 0.08315064448554295\n",
      "Cost after 190th iteration - 0.08210843397671587\n",
      "Cost after 200th iteration - 0.08131671539125865\n"
     ]
    }
   ],
   "source": [
    "uni_reg = UniLinearRegression()\n",
    "bias, weight = uni_reg.train(X, y, 200)"
   ]
  },
  {
   "cell_type": "markdown",
   "id": "122f173c",
   "metadata": {},
   "source": [
    "### Predicting values using learned weight and bias"
   ]
  },
  {
   "cell_type": "markdown",
   "id": "2f895816",
   "metadata": {},
   "source": [
    "`train()` returns learned bias and weight, which we'll use to predict."
   ]
  },
  {
   "cell_type": "code",
   "execution_count": 131,
   "id": "f403d645",
   "metadata": {},
   "outputs": [],
   "source": [
    "y_pred = uni_reg.predict(X, weight, bias)"
   ]
  },
  {
   "cell_type": "markdown",
   "id": "695e8e5a",
   "metadata": {},
   "source": [
    "### Now we'll plot the learned regression model"
   ]
  },
  {
   "cell_type": "code",
   "execution_count": 132,
   "id": "49ec1e73",
   "metadata": {},
   "outputs": [
    {
     "data": {
      "image/png": "[encoded data removed]",
      "text/plain": [
       "<Figure size 648x432 with 1 Axes>"
      ]
     },
     "metadata": {
      "needs_background": "light"
     },
     "output_type": "display_data"
    }
   ],
   "source": [
    "plt.figure(figsize=(9, 6))\n",
    "plt.scatter(X, y, color='orange', label='Data points')\n",
    "plt.plot(X, y_pred, color='blue', label='Regression line')\n",
    "plt.xlabel('X')\n",
    "plt.ylabel('Y')\n",
    "plt.legend()\n",
    "plt.show()"
   ]
  },
  {
   "cell_type": "markdown",
   "id": "4d0cc4e1",
   "metadata": {},
   "source": [
    "### Visualizing Cost vs Iterations\n",
    "This shows how cost value decreases with the no. of iterations"
   ]
  },
  {
   "cell_type": "code",
   "execution_count": 133,
   "id": "acc4eb9d",
   "metadata": {},
   "outputs": [
    {
     "data": {
      "image/png": "[encoded data removed]",
      "text/plain": [
       "<Figure size 720x432 with 1 Axes>"
      ]
     },
     "metadata": {
      "needs_background": "light"
     },
     "output_type": "display_data"
    }
   ],
   "source": [
    "iterations = [i*10 for i in range(1, len(uni_reg.costs)+1)]\n",
    "plt.figure(figsize=(10, 6))\n",
    "plt.plot(iterations, uni_reg.costs, color='blue', label='Cost')\n",
    "plt.xlabel('No. of Iterations', fontsize=13)\n",
    "plt.ylabel('Cost', fontsize=13)\n",
    "plt.legend()\n",
    "plt.show()\n",
    "# iterations"
   ]
  },
  {
   "cell_type": "markdown",
   "id": "1e0a51e3",
   "metadata": {},
   "source": [
    "### Univariate Linear Regression on Yield_vs_Temperature Dataset"
   ]
  },
  {
   "cell_type": "code",
   "execution_count": 158,
   "id": "fe576216",
   "metadata": {},
   "outputs": [
    {
     "data": {
      "text/html": [
       "<div>\n",
       "<style scoped>\n",
       "    .dataframe tbody tr th:only-of-type {\n",
       "        vertical-align: middle;\n",
       "    }\n",
       "\n",
       "    .dataframe tbody tr th {\n",
       "        vertical-align: top;\n",
       "    }\n",
       "\n",
       "    .dataframe thead th {\n",
       "        text-align: right;\n",
       "    }\n",
       "</style>\n",
       "<table border=\"1\" class=\"dataframe\">\n",
       "  <thead>\n",
       "    <tr style=\"text-align: right;\">\n",
       "      <th></th>\n",
       "      <th>Observation Number</th>\n",
       "      <th>Temperature (Xi)</th>\n",
       "      <th>Yield (Yi)</th>\n",
       "    </tr>\n",
       "  </thead>\n",
       "  <tbody>\n",
       "    <tr>\n",
       "      <th>0</th>\n",
       "      <td>1</td>\n",
       "      <td>50</td>\n",
       "      <td>122</td>\n",
       "    </tr>\n",
       "    <tr>\n",
       "      <th>1</th>\n",
       "      <td>2</td>\n",
       "      <td>53</td>\n",
       "      <td>118</td>\n",
       "    </tr>\n",
       "    <tr>\n",
       "      <th>2</th>\n",
       "      <td>3</td>\n",
       "      <td>54</td>\n",
       "      <td>128</td>\n",
       "    </tr>\n",
       "    <tr>\n",
       "      <th>3</th>\n",
       "      <td>4</td>\n",
       "      <td>55</td>\n",
       "      <td>121</td>\n",
       "    </tr>\n",
       "    <tr>\n",
       "      <th>4</th>\n",
       "      <td>5</td>\n",
       "      <td>56</td>\n",
       "      <td>125</td>\n",
       "    </tr>\n",
       "  </tbody>\n",
       "</table>\n",
       "</div>"
      ],
      "text/plain": [
       "   Observation Number  Temperature (Xi)  Yield (Yi)\n",
       "0                   1                50         122\n",
       "1                   2                53         118\n",
       "2                   3                54         128\n",
       "3                   4                55         121\n",
       "4                   5                56         125"
      ]
     },
     "execution_count": 158,
     "metadata": {},
     "output_type": "execute_result"
    }
   ],
   "source": [
    "df1 = pd.read_csv('/Users/anike/ML/MLA 1 Lab/Yield_vs_Temperature.csv')\n",
    "df1.head()"
   ]
  },
  {
   "cell_type": "code",
   "execution_count": 159,
   "id": "eac5458d",
   "metadata": {},
   "outputs": [
    {
     "name": "stdout",
     "output_type": "stream",
     "text": [
      "(25, 1) (25, 1)\n"
     ]
    }
   ],
   "source": [
    "X = df1['Temperature (Xi)'].values\n",
    "y = df1['Yield (Yi)'].values\n",
    "\n",
    "X = X.reshape((len(X), 1))\n",
    "y = y.reshape((len(y), 1))\n",
    "\n",
    "print(X.shape, y.shape)"
   ]
  },
  {
   "cell_type": "code",
   "execution_count": 160,
   "id": "88a873f9",
   "metadata": {},
   "outputs": [
    {
     "data": {
      "text/plain": [
       "array([[-0.4968],\n",
       "       [-0.4368],\n",
       "       [-0.4168],\n",
       "       [-0.3968],\n",
       "       [-0.3768],\n",
       "       [-0.3168],\n",
       "       [-0.2568],\n",
       "       [-0.1968],\n",
       "       [-0.1568],\n",
       "       [-0.0768],\n",
       "       [-0.0568],\n",
       "       [-0.0168],\n",
       "       [ 0.0032],\n",
       "       [ 0.0232],\n",
       "       [ 0.0832],\n",
       "       [ 0.1032],\n",
       "       [ 0.1432],\n",
       "       [ 0.2032],\n",
       "       [ 0.2432],\n",
       "       [ 0.3032],\n",
       "       [ 0.3632],\n",
       "       [ 0.3832],\n",
       "       [ 0.4032],\n",
       "       [ 0.4432],\n",
       "       [ 0.5032]])"
      ]
     },
     "execution_count": 160,
     "metadata": {},
     "output_type": "execute_result"
    }
   ],
   "source": [
    "# normalizing data\n",
    "X = (X - np.mean(X))/(np.max(X)-np.min(X))\n",
    "X"
   ]
  },
  {
   "cell_type": "code",
   "execution_count": 161,
   "id": "05f1f312",
   "metadata": {},
   "outputs": [
    {
     "name": "stdout",
     "output_type": "stream",
     "text": [
      "Cost after 10th iteration - 1163.2260813124476\n",
      "Cost after 20th iteration - 471.04461417564295\n",
      "Cost after 30th iteration - 327.05192916943446\n",
      "Cost after 40th iteration - 231.1443966393422\n",
      "Cost after 50th iteration - 164.7315549051873\n",
      "Cost after 60th iteration - 118.71244591022278\n",
      "Cost after 70th iteration - 86.82431080838212\n",
      "Cost after 80th iteration - 64.72798238220724\n",
      "Cost after 90th iteration - 49.41671598661208\n",
      "Cost after 100th iteration - 38.80704029175587\n",
      "Cost after 110th iteration - 31.45525008435011\n",
      "Cost after 120th iteration - 26.36095495147325\n",
      "Cost after 130th iteration - 22.830951759228903\n",
      "Cost after 140th iteration - 20.38489745490783\n",
      "Cost after 150th iteration - 18.689946676156968\n",
      "Cost after 160th iteration - 17.51546001929366\n",
      "Cost after 170th iteration - 16.701619921726625\n",
      "Cost after 180th iteration - 16.137683583635827\n",
      "Cost after 190th iteration - 15.746913708361928\n",
      "Cost after 200th iteration - 15.476136521102415\n",
      "Cost after 210th iteration - 15.288506179616261\n",
      "Cost after 220th iteration - 15.158490998490763\n",
      "Cost after 230th iteration - 15.068399240466857\n",
      "Cost after 240th iteration - 15.005971723975554\n",
      "Cost after 250th iteration - 14.962713662408603\n"
     ]
    }
   ],
   "source": [
    "uni_reg = UniLinearRegression()\n",
    "bias, weight = uni_reg.train(X, y, 250)"
   ]
  },
  {
   "cell_type": "code",
   "execution_count": 162,
   "id": "7a7aedab",
   "metadata": {},
   "outputs": [],
   "source": [
    "y_pred = bias + weight*X"
   ]
  },
  {
   "cell_type": "code",
   "execution_count": 163,
   "id": "ad924b12",
   "metadata": {},
   "outputs": [
    {
     "data": {
      "image/png": "[encoded data removed]",
      "text/plain": [
       "<Figure size 648x432 with 1 Axes>"
      ]
     },
     "metadata": {
      "needs_background": "light"
     },
     "output_type": "display_data"
    }
   ],
   "source": [
    "plt.figure(figsize=(9, 6))\n",
    "plt.scatter(X, y, color='orange', label='Data points')\n",
    "plt.plot(X, y_pred, color='blue', label='Regression line')\n",
    "plt.xlabel('X')\n",
    "plt.ylabel('Y')\n",
    "plt.legend()\n",
    "plt.show()"
   ]
  },
  {
   "cell_type": "markdown",
   "id": "26d6ad65",
   "metadata": {},
   "source": [
    "### Univariate Linear Regression on Sin2x Dataset"
   ]
  },
  {
   "cell_type": "code",
   "execution_count": 167,
   "id": "75d429a8",
   "metadata": {},
   "outputs": [
    {
     "data": {
      "text/html": [
       "<div>\n",
       "<style scoped>\n",
       "    .dataframe tbody tr th:only-of-type {\n",
       "        vertical-align: middle;\n",
       "    }\n",
       "\n",
       "    .dataframe tbody tr th {\n",
       "        vertical-align: top;\n",
       "    }\n",
       "\n",
       "    .dataframe thead th {\n",
       "        text-align: right;\n",
       "    }\n",
       "</style>\n",
       "<table border=\"1\" class=\"dataframe\">\n",
       "  <thead>\n",
       "    <tr style=\"text-align: right;\">\n",
       "      <th></th>\n",
       "      <th>x</th>\n",
       "      <th>y</th>\n",
       "    </tr>\n",
       "  </thead>\n",
       "  <tbody>\n",
       "    <tr>\n",
       "      <th>0</th>\n",
       "      <td>0.1</td>\n",
       "      <td>0.499167</td>\n",
       "    </tr>\n",
       "    <tr>\n",
       "      <th>1</th>\n",
       "      <td>0.2</td>\n",
       "      <td>0.993347</td>\n",
       "    </tr>\n",
       "    <tr>\n",
       "      <th>2</th>\n",
       "      <td>0.3</td>\n",
       "      <td>1.477601</td>\n",
       "    </tr>\n",
       "    <tr>\n",
       "      <th>3</th>\n",
       "      <td>0.4</td>\n",
       "      <td>1.947092</td>\n",
       "    </tr>\n",
       "    <tr>\n",
       "      <th>4</th>\n",
       "      <td>0.5</td>\n",
       "      <td>2.397128</td>\n",
       "    </tr>\n",
       "  </tbody>\n",
       "</table>\n",
       "</div>"
      ],
      "text/plain": [
       "     x         y\n",
       "0  0.1  0.499167\n",
       "1  0.2  0.993347\n",
       "2  0.3  1.477601\n",
       "3  0.4  1.947092\n",
       "4  0.5  2.397128"
      ]
     },
     "execution_count": 167,
     "metadata": {},
     "output_type": "execute_result"
    }
   ],
   "source": [
    "df2 = pd.read_csv('/Users/anike/ML/MLA 1 Lab/sin2x.csv')\n",
    "df2.head()"
   ]
  },
  {
   "cell_type": "code",
   "execution_count": 169,
   "id": "7ed84d64",
   "metadata": {},
   "outputs": [
    {
     "name": "stdout",
     "output_type": "stream",
     "text": [
      "(42, 1) (42, 1)\n"
     ]
    }
   ],
   "source": [
    "X = df2['x'].values\n",
    "y = df2['y'].values\n",
    "\n",
    "X = X.reshape((len(X), 1))\n",
    "y = y.reshape((len(y), 1))\n",
    "\n",
    "print(X.shape, y.shape)"
   ]
  },
  {
   "cell_type": "code",
   "execution_count": 173,
   "id": "4103911a",
   "metadata": {},
   "outputs": [
    {
     "name": "stdout",
     "output_type": "stream",
     "text": [
      "Cost after 10th iteration - 7.2081319242477555\n",
      "Cost after 20th iteration - 5.349174002264532\n",
      "Cost after 30th iteration - 4.60263107373895\n",
      "Cost after 40th iteration - 4.30282527886076\n",
      "Cost after 50th iteration - 4.182425619031337\n",
      "Cost after 60th iteration - 4.134074058338753\n",
      "Cost after 70th iteration - 4.114656450143508\n",
      "Cost after 80th iteration - 4.106858490726617\n",
      "Cost after 90th iteration - 4.103726891280587\n",
      "Cost after 100th iteration - 4.102469265462591\n"
     ]
    }
   ],
   "source": [
    "uni_reg = UniLinearRegression()\n",
    "bias, weight = uni_reg.train(X, y, 100)"
   ]
  },
  {
   "cell_type": "code",
   "execution_count": 174,
   "id": "510ff701",
   "metadata": {},
   "outputs": [],
   "source": [
    "y_pred = bias + weight*X"
   ]
  },
  {
   "cell_type": "code",
   "execution_count": 175,
   "id": "dbe1495a",
   "metadata": {},
   "outputs": [
    {
     "data": {
      "image/png": "[encoded data removed]",
      "text/plain": [
       "<Figure size 648x432 with 1 Axes>"
      ]
     },
     "metadata": {
      "needs_background": "light"
     },
     "output_type": "display_data"
    }
   ],
   "source": [
    "plt.figure(figsize=(9, 6))\n",
    "plt.scatter(X, y, color='orange', label='Data points')\n",
    "plt.plot(X, y_pred, color='blue', label='Regression line')\n",
    "plt.xlabel('X')\n",
    "plt.ylabel('Y')\n",
    "plt.legend()\n",
    "plt.show()"
   ]
  },
  {
   "cell_type": "code",
   "execution_count": 177,
   "id": "9c936381",
   "metadata": {},
   "outputs": [],
   "source": [
    "## As the sin function gives a curve, linear regression will not be able to fit this function, polynomial regression might \n",
    "## be a good idea."
   ]
  },
  {
   "cell_type": "code",
   "execution_count": null,
   "id": "b9c0627a",
   "metadata": {},
   "outputs": [],
   "source": []
  }
 ],
 "metadata": {
  "kernelspec": {
   "display_name": "Python 3 (ipykernel)",
   "language": "python",
   "name": "python3"
  },
  "language_info": {
   "codemirror_mode": {
    "name": "ipython",
    "version": 3
   },
   "file_extension": ".py",
   "mimetype": "text/x-python",
   "name": "python",
   "nbconvert_exporter": "python",
   "pygments_lexer": "ipython3",
   "version": "3.8.0"
  }
 },
 "nbformat": 4,
 "nbformat_minor": 5
}

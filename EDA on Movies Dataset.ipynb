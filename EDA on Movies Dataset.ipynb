{
 "cells": [
  {
   "cell_type": "code",
   "execution_count": 24,
   "id": "3779460e",
   "metadata": {},
   "outputs": [],
   "source": [
    "import pandas as pd\n",
    "import numpy as np\n",
    "import matplotlib.pyplot as plt\n",
    "import seaborn as sns"
   ]
  },
  {
   "cell_type": "markdown",
   "id": "69a1e810",
   "metadata": {},
   "source": [
    "#### Link to the dataset - https://www.kaggle.com/emrearslan123/eda-top-10000-movies-dataset/data"
   ]
  },
  {
   "cell_type": "code",
   "execution_count": 2,
   "id": "0d0ce5df",
   "metadata": {},
   "outputs": [
    {
     "data": {
      "text/plain": [
       "(10014, 13)"
      ]
     },
     "execution_count": 2,
     "metadata": {},
     "output_type": "execute_result"
    }
   ],
   "source": [
    "df = pd.read_csv('/Users/anike/ML/Datasets/Top_10000_Movies.csv', engine='python')\n",
    "df.shape"
   ]
  },
  {
   "cell_type": "code",
   "execution_count": 3,
   "id": "038e577c",
   "metadata": {},
   "outputs": [
    {
     "data": {
      "text/html": [
       "<div>\n",
       "<style scoped>\n",
       "    .dataframe tbody tr th:only-of-type {\n",
       "        vertical-align: middle;\n",
       "    }\n",
       "\n",
       "    .dataframe tbody tr th {\n",
       "        vertical-align: top;\n",
       "    }\n",
       "\n",
       "    .dataframe thead th {\n",
       "        text-align: right;\n",
       "    }\n",
       "</style>\n",
       "<table border=\"1\" class=\"dataframe\">\n",
       "  <thead>\n",
       "    <tr style=\"text-align: right;\">\n",
       "      <th></th>\n",
       "      <th>Unnamed: 0</th>\n",
       "      <th>id</th>\n",
       "      <th>original_language</th>\n",
       "      <th>original_title</th>\n",
       "      <th>popularity</th>\n",
       "      <th>release_date</th>\n",
       "      <th>vote_average</th>\n",
       "      <th>vote_count</th>\n",
       "      <th>genre</th>\n",
       "      <th>overview</th>\n",
       "      <th>revenue</th>\n",
       "      <th>runtime</th>\n",
       "      <th>tagline</th>\n",
       "    </tr>\n",
       "  </thead>\n",
       "  <tbody>\n",
       "    <tr>\n",
       "      <th>0</th>\n",
       "      <td>0</td>\n",
       "      <td>580489.0</td>\n",
       "      <td>en</td>\n",
       "      <td>Venom: Let There Be Carnage</td>\n",
       "      <td>5401.308</td>\n",
       "      <td>2021-09-30</td>\n",
       "      <td>6.8</td>\n",
       "      <td>1736.0</td>\n",
       "      <td>['Science Fiction', 'Action', 'Adventure']</td>\n",
       "      <td>After finding a host body in investigative rep...</td>\n",
       "      <td>424000000.0</td>\n",
       "      <td>97.0</td>\n",
       "      <td>NaN</td>\n",
       "    </tr>\n",
       "    <tr>\n",
       "      <th>1</th>\n",
       "      <td>1</td>\n",
       "      <td>524434.0</td>\n",
       "      <td>en</td>\n",
       "      <td>Eternals</td>\n",
       "      <td>3365.535</td>\n",
       "      <td>2021-11-03</td>\n",
       "      <td>7.1</td>\n",
       "      <td>622.0</td>\n",
       "      <td>['Action', 'Adventure', 'Science Fiction', 'Fa...</td>\n",
       "      <td>The Eternals are a team of ancient aliens who ...</td>\n",
       "      <td>165000000.0</td>\n",
       "      <td>157.0</td>\n",
       "      <td>In the beginning...</td>\n",
       "    </tr>\n",
       "    <tr>\n",
       "      <th>2</th>\n",
       "      <td>2</td>\n",
       "      <td>438631.0</td>\n",
       "      <td>en</td>\n",
       "      <td>Dune</td>\n",
       "      <td>2911.423</td>\n",
       "      <td>2021-09-15</td>\n",
       "      <td>8.0</td>\n",
       "      <td>3632.0</td>\n",
       "      <td>['Action', 'Adventure', 'Science Fiction']</td>\n",
       "      <td>Paul Atreides, a brilliant and gifted young ma...</td>\n",
       "      <td>331116356.0</td>\n",
       "      <td>155.0</td>\n",
       "      <td>Beyond fear, destiny awaits.</td>\n",
       "    </tr>\n",
       "    <tr>\n",
       "      <th>3</th>\n",
       "      <td>3</td>\n",
       "      <td>796499.0</td>\n",
       "      <td>en</td>\n",
       "      <td>Army of Thieves</td>\n",
       "      <td>2552.437</td>\n",
       "      <td>2021-10-27</td>\n",
       "      <td>6.9</td>\n",
       "      <td>555.0</td>\n",
       "      <td>['Action', 'Crime', 'Thriller']</td>\n",
       "      <td>A mysterious woman recruits bank teller Ludwig...</td>\n",
       "      <td>0.0</td>\n",
       "      <td>127.0</td>\n",
       "      <td>Before Vegas, one locksmith became a legend.</td>\n",
       "    </tr>\n",
       "    <tr>\n",
       "      <th>4</th>\n",
       "      <td>4</td>\n",
       "      <td>550988.0</td>\n",
       "      <td>en</td>\n",
       "      <td>Free Guy</td>\n",
       "      <td>1850.470</td>\n",
       "      <td>2021-08-11</td>\n",
       "      <td>7.8</td>\n",
       "      <td>3493.0</td>\n",
       "      <td>['Comedy', 'Action', 'Adventure', 'Science Fic...</td>\n",
       "      <td>A bank teller called Guy realizes he is a back...</td>\n",
       "      <td>331096766.0</td>\n",
       "      <td>115.0</td>\n",
       "      <td>Life's too short to be a background character.</td>\n",
       "    </tr>\n",
       "  </tbody>\n",
       "</table>\n",
       "</div>"
      ],
      "text/plain": [
       "  Unnamed: 0        id original_language               original_title  \\\n",
       "0          0  580489.0                en  Venom: Let There Be Carnage   \n",
       "1          1  524434.0                en                     Eternals   \n",
       "2          2  438631.0                en                         Dune   \n",
       "3          3  796499.0                en              Army of Thieves   \n",
       "4          4  550988.0                en                     Free Guy   \n",
       "\n",
       "   popularity release_date  vote_average  vote_count  \\\n",
       "0    5401.308   2021-09-30           6.8      1736.0   \n",
       "1    3365.535   2021-11-03           7.1       622.0   \n",
       "2    2911.423   2021-09-15           8.0      3632.0   \n",
       "3    2552.437   2021-10-27           6.9       555.0   \n",
       "4    1850.470   2021-08-11           7.8      3493.0   \n",
       "\n",
       "                                               genre  \\\n",
       "0         ['Science Fiction', 'Action', 'Adventure']   \n",
       "1  ['Action', 'Adventure', 'Science Fiction', 'Fa...   \n",
       "2         ['Action', 'Adventure', 'Science Fiction']   \n",
       "3                    ['Action', 'Crime', 'Thriller']   \n",
       "4  ['Comedy', 'Action', 'Adventure', 'Science Fic...   \n",
       "\n",
       "                                            overview      revenue  runtime  \\\n",
       "0  After finding a host body in investigative rep...  424000000.0     97.0   \n",
       "1  The Eternals are a team of ancient aliens who ...  165000000.0    157.0   \n",
       "2  Paul Atreides, a brilliant and gifted young ma...  331116356.0    155.0   \n",
       "3  A mysterious woman recruits bank teller Ludwig...          0.0    127.0   \n",
       "4  A bank teller called Guy realizes he is a back...  331096766.0    115.0   \n",
       "\n",
       "                                          tagline  \n",
       "0                                             NaN  \n",
       "1                             In the beginning...  \n",
       "2                    Beyond fear, destiny awaits.  \n",
       "3    Before Vegas, one locksmith became a legend.  \n",
       "4  Life's too short to be a background character.  "
      ]
     },
     "execution_count": 3,
     "metadata": {},
     "output_type": "execute_result"
    }
   ],
   "source": [
    "df.head()"
   ]
  },
  {
   "cell_type": "code",
   "execution_count": 5,
   "id": "4e7a59e5",
   "metadata": {},
   "outputs": [],
   "source": [
    "# Removed the unnamed column which was not useful.\n",
    "\n",
    "df.drop(['Unnamed: 0', 'id'], axis=1, inplace=True)"
   ]
  },
  {
   "cell_type": "code",
   "execution_count": 6,
   "id": "1c19aabf",
   "metadata": {},
   "outputs": [
    {
     "data": {
      "text/plain": [
       "Index(['original_language', 'original_title', 'popularity', 'release_date',\n",
       "       'vote_average', 'vote_count', 'genre', 'overview', 'revenue', 'runtime',\n",
       "       'tagline'],\n",
       "      dtype='object')"
      ]
     },
     "execution_count": 6,
     "metadata": {},
     "output_type": "execute_result"
    }
   ],
   "source": [
    "df.columns"
   ]
  },
  {
   "cell_type": "code",
   "execution_count": 7,
   "id": "c4f3ac2b",
   "metadata": {},
   "outputs": [
    {
     "name": "stdout",
     "output_type": "stream",
     "text": [
      "<class 'pandas.core.frame.DataFrame'>\n",
      "RangeIndex: 10014 entries, 0 to 10013\n",
      "Data columns (total 11 columns):\n",
      " #   Column             Non-Null Count  Dtype  \n",
      "---  ------             --------------  -----  \n",
      " 0   original_language  10002 non-null  object \n",
      " 1   original_title     10001 non-null  object \n",
      " 2   popularity         10000 non-null  float64\n",
      " 3   release_date       9962 non-null   object \n",
      " 4   vote_average       10000 non-null  float64\n",
      " 5   vote_count         10000 non-null  float64\n",
      " 6   genre              10000 non-null  object \n",
      " 7   overview           9900 non-null   object \n",
      " 8   revenue            9998 non-null   float64\n",
      " 9   runtime            9989 non-null   float64\n",
      " 10  tagline            7079 non-null   object \n",
      "dtypes: float64(5), object(6)\n",
      "memory usage: 860.7+ KB\n"
     ]
    }
   ],
   "source": [
    "df.info()"
   ]
  },
  {
   "cell_type": "markdown",
   "id": "4b40a74f",
   "metadata": {},
   "source": [
    "#### Converted dtype of release_date from object to `pd.datetime`"
   ]
  },
  {
   "cell_type": "code",
   "execution_count": 15,
   "id": "be764272",
   "metadata": {},
   "outputs": [],
   "source": [
    "df['release_date'] = pd.to_datetime(df['release_date'], format=\"%Y-%m-%d\")"
   ]
  },
  {
   "cell_type": "code",
   "execution_count": 16,
   "id": "0bd15ea8",
   "metadata": {},
   "outputs": [
    {
     "name": "stdout",
     "output_type": "stream",
     "text": [
      "<class 'pandas.core.frame.DataFrame'>\n",
      "Int64Index: 10003 entries, 0 to 10013\n",
      "Data columns (total 11 columns):\n",
      " #   Column             Non-Null Count  Dtype         \n",
      "---  ------             --------------  -----         \n",
      " 0   original_language  10002 non-null  object        \n",
      " 1   original_title     10001 non-null  object        \n",
      " 2   popularity         10000 non-null  float64       \n",
      " 3   release_date       9962 non-null   datetime64[ns]\n",
      " 4   vote_average       10000 non-null  float64       \n",
      " 5   vote_count         10000 non-null  float64       \n",
      " 6   genre              10000 non-null  object        \n",
      " 7   overview           9900 non-null   object        \n",
      " 8   revenue            9998 non-null   float64       \n",
      " 9   runtime            9989 non-null   float64       \n",
      " 10  tagline            7079 non-null   object        \n",
      "dtypes: datetime64[ns](1), float64(5), object(5)\n",
      "memory usage: 937.8+ KB\n"
     ]
    }
   ],
   "source": [
    "df.info()"
   ]
  },
  {
   "cell_type": "markdown",
   "id": "daa80942",
   "metadata": {},
   "source": [
    "#### Checking for null values if any"
   ]
  },
  {
   "cell_type": "code",
   "execution_count": 12,
   "id": "973a8a0a",
   "metadata": {},
   "outputs": [
    {
     "data": {
      "text/plain": [
       "True"
      ]
     },
     "execution_count": 12,
     "metadata": {},
     "output_type": "execute_result"
    }
   ],
   "source": [
    "df.isna().values.any()"
   ]
  },
  {
   "cell_type": "code",
   "execution_count": 11,
   "id": "e61c5de0",
   "metadata": {},
   "outputs": [
    {
     "data": {
      "text/plain": [
       "original_language      12\n",
       "original_title         13\n",
       "popularity             14\n",
       "release_date           52\n",
       "vote_average           14\n",
       "vote_count             14\n",
       "genre                  14\n",
       "overview              114\n",
       "revenue                16\n",
       "runtime                25\n",
       "tagline              2935\n",
       "dtype: int64"
      ]
     },
     "execution_count": 11,
     "metadata": {},
     "output_type": "execute_result"
    }
   ],
   "source": [
    "df.isnull().sum()"
   ]
  },
  {
   "cell_type": "markdown",
   "id": "0d5383d0",
   "metadata": {},
   "source": [
    "#### So this dataset contains Nan values in each attribute and the tagline has around 3k Nan values, now let's check for duplicate records."
   ]
  },
  {
   "cell_type": "code",
   "execution_count": 13,
   "id": "09867f78",
   "metadata": {},
   "outputs": [
    {
     "data": {
      "text/plain": [
       "11"
      ]
     },
     "execution_count": 13,
     "metadata": {},
     "output_type": "execute_result"
    }
   ],
   "source": [
    "df.duplicated().sum()"
   ]
  },
  {
   "cell_type": "code",
   "execution_count": 14,
   "id": "b12bcb59",
   "metadata": {},
   "outputs": [],
   "source": [
    "df.drop_duplicates(inplace=True)"
   ]
  },
  {
   "cell_type": "markdown",
   "id": "27876b99",
   "metadata": {},
   "source": [
    "### We'll try asking some questions and write query accordingly so we can get insights from the dataset."
   ]
  },
  {
   "cell_type": "code",
   "execution_count": 54,
   "id": "07e06c95",
   "metadata": {},
   "outputs": [
    {
     "data": {
      "image/png": "[encoded data removed]",
      "text/plain": [
       "<Figure size 720x576 with 1 Axes>"
      ]
     },
     "metadata": {
      "needs_background": "light"
     },
     "output_type": "display_data"
    }
   ],
   "source": [
    "## In which language most of the movies are ?\n",
    "\n",
    "plt.figure(figsize=(10, 8))\n",
    "df['original_language'].value_counts().head(10).plot(kind='bar')\n",
    "plt.title('Top 10 languages in Movies', size=15)\n",
    "plt.show()"
   ]
  },
  {
   "cell_type": "markdown",
   "id": "c0fd75d9",
   "metadata": {},
   "source": [
    "Around 8000 movies in this dataset are in English."
   ]
  },
  {
   "cell_type": "code",
   "execution_count": 25,
   "id": "bdf353e2",
   "metadata": {},
   "outputs": [
    {
     "data": {
      "image/png": "[encoded data removed]",
      "text/plain": [
       "<Figure size 720x576 with 1 Axes>"
      ]
     },
     "metadata": {
      "needs_background": "light"
     },
     "output_type": "display_data"
    }
   ],
   "source": [
    "plt.figure(figsize=(10, 8))\n",
    "sns.scatterplot(x=df['vote_average'], y=df['runtime'])\n",
    "plt.title('Runtime vs Vote average', size=15)\n",
    "plt.show()"
   ]
  },
  {
   "cell_type": "markdown",
   "id": "d9a15b2d",
   "metadata": {},
   "source": [
    "This shows that the majority of the movies have an `average_vote` between 6 and 8 with `runtime` between 100 to 200 minutes."
   ]
  },
  {
   "cell_type": "markdown",
   "id": "8f029ca4",
   "metadata": {},
   "source": [
    "#### We'll convert revenue into millions for easy understanding."
   ]
  },
  {
   "cell_type": "code",
   "execution_count": 40,
   "id": "0ad251f5",
   "metadata": {},
   "outputs": [],
   "source": [
    "df['revenue'] = df['revenue'] / 1000000\n",
    "df['revenue'] = df['revenue'].round(1)"
   ]
  },
  {
   "cell_type": "code",
   "execution_count": 45,
   "id": "16681c69",
   "metadata": {},
   "outputs": [
    {
     "data": {
      "text/html": [
       "<div>\n",
       "<style scoped>\n",
       "    .dataframe tbody tr th:only-of-type {\n",
       "        vertical-align: middle;\n",
       "    }\n",
       "\n",
       "    .dataframe tbody tr th {\n",
       "        vertical-align: top;\n",
       "    }\n",
       "\n",
       "    .dataframe thead th {\n",
       "        text-align: right;\n",
       "    }\n",
       "</style>\n",
       "<table border=\"1\" class=\"dataframe\">\n",
       "  <thead>\n",
       "    <tr style=\"text-align: right;\">\n",
       "      <th></th>\n",
       "      <th>original_language</th>\n",
       "      <th>original_title</th>\n",
       "      <th>popularity</th>\n",
       "      <th>release_date</th>\n",
       "      <th>vote_average</th>\n",
       "      <th>vote_count</th>\n",
       "      <th>genre</th>\n",
       "      <th>overview</th>\n",
       "      <th>revenue</th>\n",
       "      <th>runtime</th>\n",
       "      <th>tagline</th>\n",
       "    </tr>\n",
       "  </thead>\n",
       "  <tbody>\n",
       "    <tr>\n",
       "      <th>66</th>\n",
       "      <td>en</td>\n",
       "      <td>Avatar</td>\n",
       "      <td>374.059</td>\n",
       "      <td>2009-12-10</td>\n",
       "      <td>7.5</td>\n",
       "      <td>24280.0</td>\n",
       "      <td>['Action', 'Adventure', 'Fantasy', 'Science Fi...</td>\n",
       "      <td>In the 22nd century, a paraplegic Marine is di...</td>\n",
       "      <td>2847.2</td>\n",
       "      <td>162.0</td>\n",
       "      <td>Enter the World of Pandora.</td>\n",
       "    </tr>\n",
       "    <tr>\n",
       "      <th>167</th>\n",
       "      <td>en</td>\n",
       "      <td>Avengers: Endgame</td>\n",
       "      <td>193.860</td>\n",
       "      <td>2019-04-24</td>\n",
       "      <td>8.3</td>\n",
       "      <td>19434.0</td>\n",
       "      <td>['Adventure', 'Science Fiction', 'Action']</td>\n",
       "      <td>After the devastating events of Avengers: Infi...</td>\n",
       "      <td>2797.8</td>\n",
       "      <td>181.0</td>\n",
       "      <td>Part of the journey is the end.</td>\n",
       "    </tr>\n",
       "    <tr>\n",
       "      <th>489</th>\n",
       "      <td>en</td>\n",
       "      <td>Titanic</td>\n",
       "      <td>94.235</td>\n",
       "      <td>1997-11-18</td>\n",
       "      <td>7.9</td>\n",
       "      <td>19999.0</td>\n",
       "      <td>['Drama', 'Romance']</td>\n",
       "      <td>101-year-old Rose DeWitt Bukater tells the sto...</td>\n",
       "      <td>2187.5</td>\n",
       "      <td>194.0</td>\n",
       "      <td>Nothing on Earth could come between them.</td>\n",
       "    </tr>\n",
       "    <tr>\n",
       "      <th>1013</th>\n",
       "      <td>en</td>\n",
       "      <td>Star Wars: The Force Awakens</td>\n",
       "      <td>59.007</td>\n",
       "      <td>2015-12-15</td>\n",
       "      <td>7.3</td>\n",
       "      <td>16314.0</td>\n",
       "      <td>['Action', 'Adventure', 'Science Fiction', 'Fa...</td>\n",
       "      <td>Thirty years after defeating the Galactic Empi...</td>\n",
       "      <td>2068.2</td>\n",
       "      <td>136.0</td>\n",
       "      <td>Every generation has a story.</td>\n",
       "    </tr>\n",
       "    <tr>\n",
       "      <th>97</th>\n",
       "      <td>en</td>\n",
       "      <td>Avengers: Infinity War</td>\n",
       "      <td>307.188</td>\n",
       "      <td>2018-04-25</td>\n",
       "      <td>8.3</td>\n",
       "      <td>23027.0</td>\n",
       "      <td>['Adventure', 'Action', 'Science Fiction']</td>\n",
       "      <td>As the Avengers and their allies have continue...</td>\n",
       "      <td>2046.2</td>\n",
       "      <td>149.0</td>\n",
       "      <td>An entire universe. Once and for all.</td>\n",
       "    </tr>\n",
       "    <tr>\n",
       "      <th>653</th>\n",
       "      <td>en</td>\n",
       "      <td>Jurassic World</td>\n",
       "      <td>79.276</td>\n",
       "      <td>2015-06-06</td>\n",
       "      <td>6.7</td>\n",
       "      <td>17336.0</td>\n",
       "      <td>['Action', 'Adventure', 'Science Fiction', 'Th...</td>\n",
       "      <td>Twenty-two years after the events of Jurassic ...</td>\n",
       "      <td>1671.7</td>\n",
       "      <td>124.0</td>\n",
       "      <td>The park is open.</td>\n",
       "    </tr>\n",
       "    <tr>\n",
       "      <th>545</th>\n",
       "      <td>en</td>\n",
       "      <td>The Lion King</td>\n",
       "      <td>103.805</td>\n",
       "      <td>2019-07-12</td>\n",
       "      <td>7.2</td>\n",
       "      <td>8021.0</td>\n",
       "      <td>['Adventure', 'Family', 'Animation']</td>\n",
       "      <td>Simba idolizes his father, King Mufasa, and ta...</td>\n",
       "      <td>1667.6</td>\n",
       "      <td>118.0</td>\n",
       "      <td>The King has Returned.</td>\n",
       "    </tr>\n",
       "    <tr>\n",
       "      <th>173</th>\n",
       "      <td>en</td>\n",
       "      <td>The Avengers</td>\n",
       "      <td>209.584</td>\n",
       "      <td>2012-04-25</td>\n",
       "      <td>7.7</td>\n",
       "      <td>25642.0</td>\n",
       "      <td>['Science Fiction', 'Action', 'Adventure']</td>\n",
       "      <td>When an unexpected enemy emerges and threatens...</td>\n",
       "      <td>1518.8</td>\n",
       "      <td>143.0</td>\n",
       "      <td>Some assembly required.</td>\n",
       "    </tr>\n",
       "    <tr>\n",
       "      <th>590</th>\n",
       "      <td>en</td>\n",
       "      <td>Furious 7</td>\n",
       "      <td>93.407</td>\n",
       "      <td>2015-04-01</td>\n",
       "      <td>7.3</td>\n",
       "      <td>8750.0</td>\n",
       "      <td>['Action', 'Thriller', 'Crime', 'Adventure']</td>\n",
       "      <td>Deckard Shaw seeks revenge against Dominic Tor...</td>\n",
       "      <td>1515.0</td>\n",
       "      <td>137.0</td>\n",
       "      <td>Vengeance Hits Home</td>\n",
       "    </tr>\n",
       "    <tr>\n",
       "      <th>230</th>\n",
       "      <td>en</td>\n",
       "      <td>Frozen II</td>\n",
       "      <td>166.097</td>\n",
       "      <td>2019-11-20</td>\n",
       "      <td>7.3</td>\n",
       "      <td>7740.0</td>\n",
       "      <td>['Family', 'Animation', 'Adventure', 'Comedy',...</td>\n",
       "      <td>Elsa, Anna, Kristoff and Olaf head far into th...</td>\n",
       "      <td>1450.0</td>\n",
       "      <td>103.0</td>\n",
       "      <td>The past is not what it seems.</td>\n",
       "    </tr>\n",
       "  </tbody>\n",
       "</table>\n",
       "</div>"
      ],
      "text/plain": [
       "     original_language                original_title  popularity release_date  \\\n",
       "66                  en                        Avatar     374.059   2009-12-10   \n",
       "167                 en             Avengers: Endgame     193.860   2019-04-24   \n",
       "489                 en                       Titanic      94.235   1997-11-18   \n",
       "1013                en  Star Wars: The Force Awakens      59.007   2015-12-15   \n",
       "97                  en        Avengers: Infinity War     307.188   2018-04-25   \n",
       "653                 en                Jurassic World      79.276   2015-06-06   \n",
       "545                 en                 The Lion King     103.805   2019-07-12   \n",
       "173                 en                  The Avengers     209.584   2012-04-25   \n",
       "590                 en                     Furious 7      93.407   2015-04-01   \n",
       "230                 en                     Frozen II     166.097   2019-11-20   \n",
       "\n",
       "      vote_average  vote_count  \\\n",
       "66             7.5     24280.0   \n",
       "167            8.3     19434.0   \n",
       "489            7.9     19999.0   \n",
       "1013           7.3     16314.0   \n",
       "97             8.3     23027.0   \n",
       "653            6.7     17336.0   \n",
       "545            7.2      8021.0   \n",
       "173            7.7     25642.0   \n",
       "590            7.3      8750.0   \n",
       "230            7.3      7740.0   \n",
       "\n",
       "                                                  genre  \\\n",
       "66    ['Action', 'Adventure', 'Fantasy', 'Science Fi...   \n",
       "167          ['Adventure', 'Science Fiction', 'Action']   \n",
       "489                                ['Drama', 'Romance']   \n",
       "1013  ['Action', 'Adventure', 'Science Fiction', 'Fa...   \n",
       "97           ['Adventure', 'Action', 'Science Fiction']   \n",
       "653   ['Action', 'Adventure', 'Science Fiction', 'Th...   \n",
       "545                ['Adventure', 'Family', 'Animation']   \n",
       "173          ['Science Fiction', 'Action', 'Adventure']   \n",
       "590        ['Action', 'Thriller', 'Crime', 'Adventure']   \n",
       "230   ['Family', 'Animation', 'Adventure', 'Comedy',...   \n",
       "\n",
       "                                               overview  revenue  runtime  \\\n",
       "66    In the 22nd century, a paraplegic Marine is di...   2847.2    162.0   \n",
       "167   After the devastating events of Avengers: Infi...   2797.8    181.0   \n",
       "489   101-year-old Rose DeWitt Bukater tells the sto...   2187.5    194.0   \n",
       "1013  Thirty years after defeating the Galactic Empi...   2068.2    136.0   \n",
       "97    As the Avengers and their allies have continue...   2046.2    149.0   \n",
       "653   Twenty-two years after the events of Jurassic ...   1671.7    124.0   \n",
       "545   Simba idolizes his father, King Mufasa, and ta...   1667.6    118.0   \n",
       "173   When an unexpected enemy emerges and threatens...   1518.8    143.0   \n",
       "590   Deckard Shaw seeks revenge against Dominic Tor...   1515.0    137.0   \n",
       "230   Elsa, Anna, Kristoff and Olaf head far into th...   1450.0    103.0   \n",
       "\n",
       "                                        tagline  \n",
       "66                  Enter the World of Pandora.  \n",
       "167             Part of the journey is the end.  \n",
       "489   Nothing on Earth could come between them.  \n",
       "1013              Every generation has a story.  \n",
       "97        An entire universe. Once and for all.  \n",
       "653                           The park is open.  \n",
       "545                      The King has Returned.  \n",
       "173                     Some assembly required.  \n",
       "590                         Vengeance Hits Home  \n",
       "230              The past is not what it seems.  "
      ]
     },
     "execution_count": 45,
     "metadata": {},
     "output_type": "execute_result"
    }
   ],
   "source": [
    "# Now let's see movies with highest revenues.\n",
    "\n",
    "top10_movies_by_revenue = df.iloc[df['revenue'].sort_values(ascending=False).head(10).index]\n",
    "top10_movies_by_revenue"
   ]
  },
  {
   "cell_type": "code",
   "execution_count": 46,
   "id": "95b8d505",
   "metadata": {},
   "outputs": [
    {
     "data": {
      "text/html": [
       "<div>\n",
       "<style scoped>\n",
       "    .dataframe tbody tr th:only-of-type {\n",
       "        vertical-align: middle;\n",
       "    }\n",
       "\n",
       "    .dataframe tbody tr th {\n",
       "        vertical-align: top;\n",
       "    }\n",
       "\n",
       "    .dataframe thead th {\n",
       "        text-align: right;\n",
       "    }\n",
       "</style>\n",
       "<table border=\"1\" class=\"dataframe\">\n",
       "  <thead>\n",
       "    <tr style=\"text-align: right;\">\n",
       "      <th></th>\n",
       "      <th>original_title</th>\n",
       "      <th>revenue</th>\n",
       "    </tr>\n",
       "  </thead>\n",
       "  <tbody>\n",
       "    <tr>\n",
       "      <th>66</th>\n",
       "      <td>Avatar</td>\n",
       "      <td>2847.2</td>\n",
       "    </tr>\n",
       "    <tr>\n",
       "      <th>167</th>\n",
       "      <td>Avengers: Endgame</td>\n",
       "      <td>2797.8</td>\n",
       "    </tr>\n",
       "    <tr>\n",
       "      <th>489</th>\n",
       "      <td>Titanic</td>\n",
       "      <td>2187.5</td>\n",
       "    </tr>\n",
       "    <tr>\n",
       "      <th>1013</th>\n",
       "      <td>Star Wars: The Force Awakens</td>\n",
       "      <td>2068.2</td>\n",
       "    </tr>\n",
       "    <tr>\n",
       "      <th>97</th>\n",
       "      <td>Avengers: Infinity War</td>\n",
       "      <td>2046.2</td>\n",
       "    </tr>\n",
       "    <tr>\n",
       "      <th>653</th>\n",
       "      <td>Jurassic World</td>\n",
       "      <td>1671.7</td>\n",
       "    </tr>\n",
       "    <tr>\n",
       "      <th>545</th>\n",
       "      <td>The Lion King</td>\n",
       "      <td>1667.6</td>\n",
       "    </tr>\n",
       "    <tr>\n",
       "      <th>173</th>\n",
       "      <td>The Avengers</td>\n",
       "      <td>1518.8</td>\n",
       "    </tr>\n",
       "    <tr>\n",
       "      <th>590</th>\n",
       "      <td>Furious 7</td>\n",
       "      <td>1515.0</td>\n",
       "    </tr>\n",
       "    <tr>\n",
       "      <th>230</th>\n",
       "      <td>Frozen II</td>\n",
       "      <td>1450.0</td>\n",
       "    </tr>\n",
       "  </tbody>\n",
       "</table>\n",
       "</div>"
      ],
      "text/plain": [
       "                    original_title  revenue\n",
       "66                          Avatar   2847.2\n",
       "167              Avengers: Endgame   2797.8\n",
       "489                        Titanic   2187.5\n",
       "1013  Star Wars: The Force Awakens   2068.2\n",
       "97          Avengers: Infinity War   2046.2\n",
       "653                 Jurassic World   1671.7\n",
       "545                  The Lion King   1667.6\n",
       "173                   The Avengers   1518.8\n",
       "590                      Furious 7   1515.0\n",
       "230                      Frozen II   1450.0"
      ]
     },
     "execution_count": 46,
     "metadata": {},
     "output_type": "execute_result"
    }
   ],
   "source": [
    "top10_movies_by_revenue[['original_title', 'revenue']]"
   ]
  },
  {
   "cell_type": "markdown",
   "id": "eb5fab53",
   "metadata": {},
   "source": [
    "So the top movies are making revenue in billions of dollars.<br>\n",
    "Avatar movie tops the revenue chart with \\\\$2.8 bn and also out of the top 10, 3 are Avenger movies with a combined revenue of \\\\$6.3 bn, seems like there are lot of Marvel fans out there."
   ]
  },
  {
   "cell_type": "code",
   "execution_count": 52,
   "id": "088301a1",
   "metadata": {},
   "outputs": [
    {
     "data": {
      "text/plain": [
       "6362.8"
      ]
     },
     "execution_count": 52,
     "metadata": {},
     "output_type": "execute_result"
    }
   ],
   "source": [
    "df.iloc[[167, 97, 173]]['revenue'].sum()"
   ]
  },
  {
   "cell_type": "code",
   "execution_count": 80,
   "id": "534ba09c",
   "metadata": {
    "scrolled": true
   },
   "outputs": [
    {
     "name": "stderr",
     "output_type": "stream",
     "text": [
      "c:\\users\\anike\\appdata\\local\\programs\\python\\python38\\lib\\site-packages\\seaborn\\distributions.py:2619: FutureWarning: `distplot` is a deprecated function and will be removed in a future version. Please adapt your code to use either `displot` (a figure-level function with similar flexibility) or `histplot` (an axes-level function for histograms).\n",
      "  warnings.warn(msg, FutureWarning)\n"
     ]
    },
    {
     "data": {
      "image/png": "[encoded data removed]",
      "text/plain": [
       "<Figure size 720x576 with 1 Axes>"
      ]
     },
     "metadata": {
      "needs_background": "light"
     },
     "output_type": "display_data"
    }
   ],
   "source": [
    "plt.figure(figsize=(10, 8))\n",
    "sns.distplot(top10_movies_by_revenue['release_date'].dt.year)\n",
    "plt.title('Release year of Top10 movies by revenue', size=15)\n",
    "plt.show()"
   ]
  },
  {
   "cell_type": "markdown",
   "id": "4ccf7711",
   "metadata": {},
   "source": [
    "Only one movie **Titanic** before **2000** is in the top10 list, and other 9 movies were released between **2010** & **2020**, it might be due to advancement in technologies used in these movies."
   ]
  },
  {
   "cell_type": "code",
   "execution_count": 72,
   "id": "98eb030b",
   "metadata": {},
   "outputs": [],
   "source": [
    "df['vote_average'] = pd.to_numeric(df['vote_average'])\n",
    "df['revenue'] = pd.to_numeric(df['revenue'])"
   ]
  },
  {
   "cell_type": "code",
   "execution_count": 77,
   "id": "5db3243e",
   "metadata": {},
   "outputs": [
    {
     "data": {
      "text/html": [
       "<div>\n",
       "<style scoped>\n",
       "    .dataframe tbody tr th:only-of-type {\n",
       "        vertical-align: middle;\n",
       "    }\n",
       "\n",
       "    .dataframe tbody tr th {\n",
       "        vertical-align: top;\n",
       "    }\n",
       "\n",
       "    .dataframe thead th {\n",
       "        text-align: right;\n",
       "    }\n",
       "</style>\n",
       "<table border=\"1\" class=\"dataframe\">\n",
       "  <thead>\n",
       "    <tr style=\"text-align: right;\">\n",
       "      <th></th>\n",
       "      <th>original_language</th>\n",
       "      <th>original_title</th>\n",
       "      <th>popularity</th>\n",
       "      <th>release_date</th>\n",
       "      <th>vote_average</th>\n",
       "      <th>vote_count</th>\n",
       "      <th>genre</th>\n",
       "      <th>overview</th>\n",
       "      <th>revenue</th>\n",
       "      <th>runtime</th>\n",
       "      <th>tagline</th>\n",
       "    </tr>\n",
       "  </thead>\n",
       "  <tbody>\n",
       "    <tr>\n",
       "      <th>3326</th>\n",
       "      <td>hi</td>\n",
       "      <td>दिलवाले दुल्हनिया ले जायेंगे</td>\n",
       "      <td>24.654</td>\n",
       "      <td>1995-10-20</td>\n",
       "      <td>8.7</td>\n",
       "      <td>3213.0</td>\n",
       "      <td>['Comedy', 'Drama', 'Romance']</td>\n",
       "      <td>Raj is a rich, carefree, happy-go-lucky second...</td>\n",
       "      <td>100.0</td>\n",
       "      <td>190.0</td>\n",
       "      <td>Come Fall In love, All Over Again..</td>\n",
       "    </tr>\n",
       "    <tr>\n",
       "      <th>1103</th>\n",
       "      <td>en</td>\n",
       "      <td>The Godfather</td>\n",
       "      <td>54.022</td>\n",
       "      <td>1972-03-14</td>\n",
       "      <td>8.7</td>\n",
       "      <td>15020.0</td>\n",
       "      <td>['Drama', 'Crime']</td>\n",
       "      <td>Spanning the years 1945 to 1955, a chronicle o...</td>\n",
       "      <td>245.1</td>\n",
       "      <td>175.0</td>\n",
       "      <td>An offer you can't refuse.</td>\n",
       "    </tr>\n",
       "    <tr>\n",
       "      <th>1023</th>\n",
       "      <td>en</td>\n",
       "      <td>The Shawshank Redemption</td>\n",
       "      <td>65.490</td>\n",
       "      <td>1994-09-23</td>\n",
       "      <td>8.7</td>\n",
       "      <td>20048.0</td>\n",
       "      <td>['Drama', 'Crime']</td>\n",
       "      <td>Framed in the 1940s for the double murder of h...</td>\n",
       "      <td>28.3</td>\n",
       "      <td>142.0</td>\n",
       "      <td>Fear can hold you prisoner. Hope can set you f...</td>\n",
       "    </tr>\n",
       "    <tr>\n",
       "      <th>234</th>\n",
       "      <td>ja</td>\n",
       "      <td>君の名は。</td>\n",
       "      <td>154.252</td>\n",
       "      <td>2016-08-26</td>\n",
       "      <td>8.6</td>\n",
       "      <td>8013.0</td>\n",
       "      <td>['Romance', 'Animation', 'Drama']</td>\n",
       "      <td>High schoolers Mitsuha and Taki are complete s...</td>\n",
       "      <td>358.0</td>\n",
       "      <td>106.0</td>\n",
       "      <td>NaN</td>\n",
       "    </tr>\n",
       "    <tr>\n",
       "      <th>2069</th>\n",
       "      <td>en</td>\n",
       "      <td>Schindler's List</td>\n",
       "      <td>34.532</td>\n",
       "      <td>1993-11-30</td>\n",
       "      <td>8.6</td>\n",
       "      <td>11994.0</td>\n",
       "      <td>['Drama', 'History', 'War']</td>\n",
       "      <td>The true story of how businessman Oskar Schind...</td>\n",
       "      <td>321.4</td>\n",
       "      <td>195.0</td>\n",
       "      <td>Whoever saves one life, saves the world entire.</td>\n",
       "    </tr>\n",
       "    <tr>\n",
       "      <th>1812</th>\n",
       "      <td>en</td>\n",
       "      <td>The Godfather: Part II</td>\n",
       "      <td>44.959</td>\n",
       "      <td>1974-12-20</td>\n",
       "      <td>8.6</td>\n",
       "      <td>9028.0</td>\n",
       "      <td>['Drama', 'Crime']</td>\n",
       "      <td>In the continuing saga of the Corleone crime f...</td>\n",
       "      <td>102.6</td>\n",
       "      <td>202.0</td>\n",
       "      <td>I don't feel I have to wipe everybody out, Tom...</td>\n",
       "    </tr>\n",
       "    <tr>\n",
       "      <th>533</th>\n",
       "      <td>en</td>\n",
       "      <td>The Lord of the Rings: The Return of the King</td>\n",
       "      <td>93.118</td>\n",
       "      <td>2003-12-01</td>\n",
       "      <td>8.5</td>\n",
       "      <td>18523.0</td>\n",
       "      <td>['Adventure', 'Fantasy', 'Action']</td>\n",
       "      <td>Aragorn is revealed as the heir to the ancient...</td>\n",
       "      <td>1118.9</td>\n",
       "      <td>201.0</td>\n",
       "      <td>The eye of the enemy is moving.</td>\n",
       "    </tr>\n",
       "    <tr>\n",
       "      <th>1494</th>\n",
       "      <td>en</td>\n",
       "      <td>GoodFellas</td>\n",
       "      <td>37.400</td>\n",
       "      <td>1990-09-12</td>\n",
       "      <td>8.5</td>\n",
       "      <td>9475.0</td>\n",
       "      <td>['Drama', 'Crime']</td>\n",
       "      <td>The true story of Henry Hill, a half-Irish, ha...</td>\n",
       "      <td>46.8</td>\n",
       "      <td>145.0</td>\n",
       "      <td>Three Decades of Life in the Mafia.</td>\n",
       "    </tr>\n",
       "    <tr>\n",
       "      <th>563</th>\n",
       "      <td>ko</td>\n",
       "      <td>기생충</td>\n",
       "      <td>96.306</td>\n",
       "      <td>2019-05-30</td>\n",
       "      <td>8.5</td>\n",
       "      <td>12445.0</td>\n",
       "      <td>['Comedy', 'Thriller', 'Drama']</td>\n",
       "      <td>All unemployed, Ki-taek's family takes peculia...</td>\n",
       "      <td>257.6</td>\n",
       "      <td>133.0</td>\n",
       "      <td>Act like you own the place.</td>\n",
       "    </tr>\n",
       "    <tr>\n",
       "      <th>1422</th>\n",
       "      <td>en</td>\n",
       "      <td>Forrest Gump</td>\n",
       "      <td>48.079</td>\n",
       "      <td>1994-07-06</td>\n",
       "      <td>8.5</td>\n",
       "      <td>21522.0</td>\n",
       "      <td>['Comedy', 'Drama', 'Romance']</td>\n",
       "      <td>A man with a low IQ has accomplished great thi...</td>\n",
       "      <td>677.4</td>\n",
       "      <td>142.0</td>\n",
       "      <td>Life is like a box of chocolates...you never k...</td>\n",
       "    </tr>\n",
       "  </tbody>\n",
       "</table>\n",
       "</div>"
      ],
      "text/plain": [
       "     original_language                                 original_title  \\\n",
       "3326                hi                   दिलवाले दुल्हनिया ले जायेंगे   \n",
       "1103                en                                  The Godfather   \n",
       "1023                en                       The Shawshank Redemption   \n",
       "234                 ja                                          君の名は。   \n",
       "2069                en                               Schindler's List   \n",
       "1812                en                         The Godfather: Part II   \n",
       "533                 en  The Lord of the Rings: The Return of the King   \n",
       "1494                en                                     GoodFellas   \n",
       "563                 ko                                            기생충   \n",
       "1422                en                                   Forrest Gump   \n",
       "\n",
       "      popularity release_date  vote_average  vote_count  \\\n",
       "3326      24.654   1995-10-20           8.7      3213.0   \n",
       "1103      54.022   1972-03-14           8.7     15020.0   \n",
       "1023      65.490   1994-09-23           8.7     20048.0   \n",
       "234      154.252   2016-08-26           8.6      8013.0   \n",
       "2069      34.532   1993-11-30           8.6     11994.0   \n",
       "1812      44.959   1974-12-20           8.6      9028.0   \n",
       "533       93.118   2003-12-01           8.5     18523.0   \n",
       "1494      37.400   1990-09-12           8.5      9475.0   \n",
       "563       96.306   2019-05-30           8.5     12445.0   \n",
       "1422      48.079   1994-07-06           8.5     21522.0   \n",
       "\n",
       "                                   genre  \\\n",
       "3326      ['Comedy', 'Drama', 'Romance']   \n",
       "1103                  ['Drama', 'Crime']   \n",
       "1023                  ['Drama', 'Crime']   \n",
       "234    ['Romance', 'Animation', 'Drama']   \n",
       "2069         ['Drama', 'History', 'War']   \n",
       "1812                  ['Drama', 'Crime']   \n",
       "533   ['Adventure', 'Fantasy', 'Action']   \n",
       "1494                  ['Drama', 'Crime']   \n",
       "563      ['Comedy', 'Thriller', 'Drama']   \n",
       "1422      ['Comedy', 'Drama', 'Romance']   \n",
       "\n",
       "                                               overview  revenue  runtime  \\\n",
       "3326  Raj is a rich, carefree, happy-go-lucky second...    100.0    190.0   \n",
       "1103  Spanning the years 1945 to 1955, a chronicle o...    245.1    175.0   \n",
       "1023  Framed in the 1940s for the double murder of h...     28.3    142.0   \n",
       "234   High schoolers Mitsuha and Taki are complete s...    358.0    106.0   \n",
       "2069  The true story of how businessman Oskar Schind...    321.4    195.0   \n",
       "1812  In the continuing saga of the Corleone crime f...    102.6    202.0   \n",
       "533   Aragorn is revealed as the heir to the ancient...   1118.9    201.0   \n",
       "1494  The true story of Henry Hill, a half-Irish, ha...     46.8    145.0   \n",
       "563   All unemployed, Ki-taek's family takes peculia...    257.6    133.0   \n",
       "1422  A man with a low IQ has accomplished great thi...    677.4    142.0   \n",
       "\n",
       "                                                tagline  \n",
       "3326                Come Fall In love, All Over Again..  \n",
       "1103                         An offer you can't refuse.  \n",
       "1023  Fear can hold you prisoner. Hope can set you f...  \n",
       "234                                                 NaN  \n",
       "2069    Whoever saves one life, saves the world entire.  \n",
       "1812  I don't feel I have to wipe everybody out, Tom...  \n",
       "533                     The eye of the enemy is moving.  \n",
       "1494                Three Decades of Life in the Mafia.  \n",
       "563                         Act like you own the place.  \n",
       "1422  Life is like a box of chocolates...you never k...  "
      ]
     },
     "execution_count": 77,
     "metadata": {},
     "output_type": "execute_result"
    }
   ],
   "source": [
    "# Now let's see top 10 movies by average_vote\n",
    "\n",
    "df2 = df[df['vote_average']>8.0]\n",
    "df2 = df2[df2['revenue'] > 0]\n",
    "df2 = df2[df2['vote_count'] > 1000]\n",
    "\n",
    "df2.sort_values(by='vote_average', ascending=False).head(10)"
   ]
  },
  {
   "cell_type": "markdown",
   "id": "35bdb3ec",
   "metadata": {},
   "source": [
    "The above query shows top movies by vote_average where more than 1000 people have voted and revenue not equal to zero.<br>\n",
    "Also the movie database is not up to date, so some of the top-rated latest movies might not be here."
   ]
  },
  {
   "cell_type": "code",
   "execution_count": 78,
   "id": "5152ca06",
   "metadata": {},
   "outputs": [
    {
     "data": {
      "text/html": [
       "<div>\n",
       "<style scoped>\n",
       "    .dataframe tbody tr th:only-of-type {\n",
       "        vertical-align: middle;\n",
       "    }\n",
       "\n",
       "    .dataframe tbody tr th {\n",
       "        vertical-align: top;\n",
       "    }\n",
       "\n",
       "    .dataframe thead th {\n",
       "        text-align: right;\n",
       "    }\n",
       "</style>\n",
       "<table border=\"1\" class=\"dataframe\">\n",
       "  <thead>\n",
       "    <tr style=\"text-align: right;\">\n",
       "      <th></th>\n",
       "      <th>popularity</th>\n",
       "      <th>vote_average</th>\n",
       "      <th>vote_count</th>\n",
       "      <th>revenue</th>\n",
       "      <th>runtime</th>\n",
       "    </tr>\n",
       "  </thead>\n",
       "  <tbody>\n",
       "    <tr>\n",
       "      <th>popularity</th>\n",
       "      <td>1.000000</td>\n",
       "      <td>0.053540</td>\n",
       "      <td>0.127125</td>\n",
       "      <td>0.156016</td>\n",
       "      <td>0.028713</td>\n",
       "    </tr>\n",
       "    <tr>\n",
       "      <th>vote_average</th>\n",
       "      <td>0.053540</td>\n",
       "      <td>1.000000</td>\n",
       "      <td>0.246775</td>\n",
       "      <td>0.144922</td>\n",
       "      <td>0.389529</td>\n",
       "    </tr>\n",
       "    <tr>\n",
       "      <th>vote_count</th>\n",
       "      <td>0.127125</td>\n",
       "      <td>0.246775</td>\n",
       "      <td>1.000000</td>\n",
       "      <td>0.771695</td>\n",
       "      <td>0.298711</td>\n",
       "    </tr>\n",
       "    <tr>\n",
       "      <th>revenue</th>\n",
       "      <td>0.156016</td>\n",
       "      <td>0.144922</td>\n",
       "      <td>0.771695</td>\n",
       "      <td>1.000000</td>\n",
       "      <td>0.259221</td>\n",
       "    </tr>\n",
       "    <tr>\n",
       "      <th>runtime</th>\n",
       "      <td>0.028713</td>\n",
       "      <td>0.389529</td>\n",
       "      <td>0.298711</td>\n",
       "      <td>0.259221</td>\n",
       "      <td>1.000000</td>\n",
       "    </tr>\n",
       "  </tbody>\n",
       "</table>\n",
       "</div>"
      ],
      "text/plain": [
       "              popularity  vote_average  vote_count   revenue   runtime\n",
       "popularity      1.000000      0.053540    0.127125  0.156016  0.028713\n",
       "vote_average    0.053540      1.000000    0.246775  0.144922  0.389529\n",
       "vote_count      0.127125      0.246775    1.000000  0.771695  0.298711\n",
       "revenue         0.156016      0.144922    0.771695  1.000000  0.259221\n",
       "runtime         0.028713      0.389529    0.298711  0.259221  1.000000"
      ]
     },
     "execution_count": 78,
     "metadata": {},
     "output_type": "execute_result"
    }
   ],
   "source": [
    "df.corr()"
   ]
  },
  {
   "cell_type": "code",
   "execution_count": 79,
   "id": "5d00addb",
   "metadata": {},
   "outputs": [
    {
     "data": {
      "text/plain": [
       "<AxesSubplot:>"
      ]
     },
     "execution_count": 79,
     "metadata": {},
     "output_type": "execute_result"
    },
    {
     "data": {
      "image/png": "[encoded data removed]",
      "text/plain": [
       "<Figure size 432x288 with 2 Axes>"
      ]
     },
     "metadata": {
      "needs_background": "light"
     },
     "output_type": "display_data"
    }
   ],
   "source": [
    "sns.heatmap(df.corr(), cmap=\"YlGnBu\", annot=True)"
   ]
  },
  {
   "cell_type": "markdown",
   "id": "c31da4e8",
   "metadata": {},
   "source": [
    "The above heatmap of correlation matrix shows there aren't many correlations between attributes, there is a slight positve correlation between `runtime` and `average_vote`."
   ]
  },
  {
   "cell_type": "code",
   "execution_count": null,
   "id": "136ac7ef",
   "metadata": {},
   "outputs": [],
   "source": []
  }
 ],
 "metadata": {
  "kernelspec": {
   "display_name": "Python 3 (ipykernel)",
   "language": "python",
   "name": "python3"
  },
  "language_info": {
   "codemirror_mode": {
    "name": "ipython",
    "version": 3
   },
   "file_extension": ".py",
   "mimetype": "text/x-python",
   "name": "python",
   "nbconvert_exporter": "python",
   "pygments_lexer": "ipython3",
   "version": "3.8.0"
  }
 },
 "nbformat": 4,
 "nbformat_minor": 5
}
